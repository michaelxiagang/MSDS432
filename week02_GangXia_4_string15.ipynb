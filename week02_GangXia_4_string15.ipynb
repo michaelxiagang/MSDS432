{
 "cells": [
  {
   "cell_type": "markdown",
   "metadata": {},
   "source": [
    "## Week 2 mini Assignment - extra credit string k = 15"
   ]
  },
  {
   "cell_type": "code",
   "execution_count": 1,
   "metadata": {},
   "outputs": [],
   "source": [
    "import numpy as np\n",
    "import pandas as pd\n",
    "import time as time\n",
    "import matplotlib as mpl\n",
    "import matplotlib.pyplot as plt\n",
    "import random\n",
    "import string"
   ]
  },
  {
   "cell_type": "markdown",
   "metadata": {},
   "source": [
    "### 1. We will again generate random data for this assignment.  Please set up five data arrays of length 5,000, 10,000, 15,000, 20,000, and 25,000 of uniformly distributed random numbers (you may use either integers or floating point).  Ensure that a common random number seed is used to generate each of the arrays. "
   ]
  },
  {
   "cell_type": "code",
   "execution_count": 2,
   "metadata": {},
   "outputs": [
    {
     "data": {
      "text/plain": [
       "array([ 5000, 10000, 15000, 20000, 25000])"
      ]
     },
     "execution_count": 2,
     "metadata": {},
     "output_type": "execute_result"
    }
   ],
   "source": [
    "# Create 5 uniformly distributed integers with size from 512, 1024, 2048, 4096 to 8192\n",
    "# Create an array containing the size of these 5 random number arrays\n",
    "np.random.seed(20200118)\n",
    "df1 = [''.join(random.choices(string.ascii_letters, k = 15)) for _ in range(5000)]\n",
    "df2 = [''.join(random.choices(string.ascii_letters, k = 15)) for _ in range(10000)]\n",
    "df3 = [''.join(random.choices(string.ascii_letters, k = 15)) for _ in range(15000)]\n",
    "df4 = [''.join(random.choices(string.ascii_letters, k = 15)) for _ in range(20000)]\n",
    "df5 = [''.join(random.choices(string.ascii_letters, k = 15)) for _ in range(25000)]\n",
    "len_array = np.array([len(df1), len(df2),len(df3), len(df4),len(df5)])\n",
    "len_array"
   ]
  },
  {
   "cell_type": "markdown",
   "metadata": {},
   "source": [
    "### 2. Execute the base algorithm (Selection Sort) for each of the random number arrays, noting the execution time with each execution. Use one of the timing methods we learned in class."
   ]
  },
  {
   "cell_type": "code",
   "execution_count": 3,
   "metadata": {},
   "outputs": [],
   "source": [
    "# Finds the smallest value in an array\n",
    "def findSmallest(array1):\n",
    "    # Stores the smallest value\n",
    "    smallest = array1[0]\n",
    "    # Stores the index of the smallest value\n",
    "    smallest_index = 0\n",
    "    for i in range(1, len(array1)):\n",
    "        if array1[i] < smallest:\n",
    "            smallest_index = i\n",
    "            smallest = array1[i]\n",
    "    return smallest_index\n",
    "\n",
    "# Sort array\n",
    "def selectionSort(array1):\n",
    "    newArr = []\n",
    "    for i in range(len(array1)):\n",
    "        # Finds the smallest element in the array and adds it to the new array\n",
    "        smallest = findSmallest(array1)\n",
    "        newArr.append(array1.pop(smallest))\n",
    "    return newArr"
   ]
  },
  {
   "cell_type": "code",
   "execution_count": 4,
   "metadata": {},
   "outputs": [
    {
     "name": "stdout",
     "output_type": "stream",
     "text": [
      "selection sort on array df_1 is 924.0527 miliseconds\n",
      "selection sort on array df_2 is 3671.2101 miliseconds\n",
      "selection sort on array df_3 is 8224.4704 miliseconds\n",
      "selection sort on array df_4 is 14726.0406 miliseconds\n",
      "selection sort on array df_5 is 22960.3131 miliseconds\n"
     ]
    }
   ],
   "source": [
    "# Sorting these 5 arrays and recording times for sorting in miliseconds\n",
    "# putting recorded sorting time into an array\n",
    "sort_time = np.array([])\n",
    "n = 0\n",
    "for j in [df1, df2, df3, df4, df5]:\n",
    "    n += 1\n",
    "    start = time.time()\n",
    "    filename = 'df_' + str(n)\n",
    "    filename1 = 'df_' + str(n)\n",
    "    filename = selectionSort(j)\n",
    "    end= time.time()\n",
    "    sorting = round((end - start)*1000, 4)\n",
    "    print('selection sort on array {0} is {1} miliseconds'.format(filename1,sorting))\n",
    "    sort_time = np.append(sort_time, sorting)"
   ]
  },
  {
   "cell_type": "markdown",
   "metadata": {},
   "source": [
    "### 3. Just as in the last assignment, please organize the results of the study into a table showing the size of data array and the time taken to sort the array. Discuss the differences in timing and how they relate to data type and length of array.  "
   ]
  },
  {
   "cell_type": "code",
   "execution_count": 5,
   "metadata": {},
   "outputs": [
    {
     "data": {
      "text/html": [
       "<div>\n",
       "<style scoped>\n",
       "    .dataframe tbody tr th:only-of-type {\n",
       "        vertical-align: middle;\n",
       "    }\n",
       "\n",
       "    .dataframe tbody tr th {\n",
       "        vertical-align: top;\n",
       "    }\n",
       "\n",
       "    .dataframe thead th {\n",
       "        text-align: right;\n",
       "    }\n",
       "</style>\n",
       "<table border=\"1\" class=\"dataframe\">\n",
       "  <thead>\n",
       "    <tr style=\"text-align: right;\">\n",
       "      <th></th>\n",
       "      <th>len_array</th>\n",
       "      <th>sel_sort_time</th>\n",
       "    </tr>\n",
       "  </thead>\n",
       "  <tbody>\n",
       "    <tr>\n",
       "      <th>0</th>\n",
       "      <td>5000</td>\n",
       "      <td>924.0527</td>\n",
       "    </tr>\n",
       "    <tr>\n",
       "      <th>1</th>\n",
       "      <td>10000</td>\n",
       "      <td>3671.2101</td>\n",
       "    </tr>\n",
       "    <tr>\n",
       "      <th>2</th>\n",
       "      <td>15000</td>\n",
       "      <td>8224.4704</td>\n",
       "    </tr>\n",
       "    <tr>\n",
       "      <th>3</th>\n",
       "      <td>20000</td>\n",
       "      <td>14726.0406</td>\n",
       "    </tr>\n",
       "    <tr>\n",
       "      <th>4</th>\n",
       "      <td>25000</td>\n",
       "      <td>22960.3131</td>\n",
       "    </tr>\n",
       "  </tbody>\n",
       "</table>\n",
       "</div>"
      ],
      "text/plain": [
       "   len_array  sel_sort_time\n",
       "0       5000       924.0527\n",
       "1      10000      3671.2101\n",
       "2      15000      8224.4704\n",
       "3      20000     14726.0406\n",
       "4      25000     22960.3131"
      ]
     },
     "execution_count": 5,
     "metadata": {},
     "output_type": "execute_result"
    }
   ],
   "source": [
    "# Create a pandas dataframe to put all arrays together. \n",
    "data = {'len_array': len_array, 'sel_sort_time': sort_time}\n",
    "df = pd.DataFrame(data)\n",
    "df.head()"
   ]
  },
  {
   "cell_type": "markdown",
   "metadata": {},
   "source": [
    "#### Discussion: string (size 15) list sorting is slower than length 5 string but about the same as integer sorting."
   ]
  },
  {
   "cell_type": "markdown",
   "metadata": {},
   "source": [
    "### 4. Use Python matplotlib or Seaborn to generate a measure of the size of the data set on the horizontal axis and with execution time in milliseconds on the vertical axis. The plot should show execution time against problem size for each form of the algorithm being tested."
   ]
  },
  {
   "cell_type": "code",
   "execution_count": 6,
   "metadata": {},
   "outputs": [
    {
     "data": {
      "image/png": "[encoded data removed]",
      "text/plain": [
       "<Figure size 432x288 with 1 Axes>"
      ]
     },
     "metadata": {
      "needs_background": "light"
     },
     "output_type": "display_data"
    }
   ],
   "source": [
    "fig = plt.figure()\n",
    "ax  = plt.axes()\n",
    "\n",
    "# x axis is array size\n",
    "x = df['len_array']\n",
    "y1 = df['sel_sort_time']\n",
    "plt.plot(x, y1, 'r', linestyle ='solid', label='list size')\n",
    "plt.title(\"Selection Sort Time in miliseconds\")\n",
    "plt.xlabel(\"Size of lists\")\n",
    "plt.ylabel(\"Search time in miliseconds\")\n",
    "plt.xticks(np.arange(5000, 26000, 5000))\n",
    "plt.legend()\n",
    "for p, txt in enumerate(y1):\n",
    "    ax.annotate(txt, (x[p], y1[p]))"
   ]
  },
  {
   "cell_type": "markdown",
   "metadata": {},
   "source": [
    "### Executive Summary\n",
    "#### Logic behind selection sort is to make a loop for the target list, each cycle, the code will pick the desired record (in this assignment, it is the smallest number), and remove this smallest number from the list and put it to the new list. The next cycle will do the same thing on the new list (one record less than last cycle) to determine the desire record and do the same operation. As loop goes on, the orignal list size will lose 1 in each cycle until the last. While the new list is adding one record from each cycle and the record is sorted based on desired interest. \n",
    "\n",
    "#### Overall, using the same sort technique on length 15 strings will give a little slower sort speed than length 5 string sorting which is expected. the results is a little bit faster than integer sorting. The conclusion is string sorting might be faster than numerical (integer/float) sorting or the efficiency is better on string sorting. "
   ]
  },
  {
   "cell_type": "code",
   "execution_count": null,
   "metadata": {},
   "outputs": [],
   "source": []
  }
 ],
 "metadata": {
  "kernelspec": {
   "display_name": "Python 3",
   "language": "python",
   "name": "python3"
  },
  "language_info": {
   "codemirror_mode": {
    "name": "ipython",
    "version": 3
   },
   "file_extension": ".py",
   "mimetype": "text/x-python",
   "name": "python",
   "nbconvert_exporter": "python",
   "pygments_lexer": "ipython3",
   "version": "3.7.1"
  }
 },
 "nbformat": 4,
 "nbformat_minor": 2
}
