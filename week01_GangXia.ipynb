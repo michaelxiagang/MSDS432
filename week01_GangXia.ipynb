{
 "cells": [
  {
   "cell_type": "code",
   "execution_count": 10,
   "metadata": {},
   "outputs": [],
   "source": [
    "import numpy as np\n",
    "import pandas as pd\n",
    "import time as time\n",
    "import matplotlib as mpl\n",
    "import matplotlib.pyplot as plt"
   ]
  },
  {
   "cell_type": "markdown",
   "metadata": {},
   "source": [
    "### 1. To begin, let's generate some random data to work with. Ensure that a common random number seed is used to generate each of the arrays. We will make five arrays, each of length 512, 1024, 2048, 4096, and 8192 containing randomly generated uniformly distributed integers from 1 to 10000.  You may use the numpy package for this. "
   ]
  },
  {
   "cell_type": "code",
   "execution_count": 11,
   "metadata": {},
   "outputs": [
    {
     "data": {
      "text/plain": [
       "array([ 512, 1024, 2048, 4096, 8192])"
      ]
     },
     "execution_count": 11,
     "metadata": {},
     "output_type": "execute_result"
    }
   ],
   "source": [
    "# Create 5 uniformly distributed integers with size from 512, 1024, 2048, 4096 to 8192\n",
    "# Create an array containing the size of these 5 random number arrays\n",
    "np.random.seed(20200110)\n",
    "df1 = np.random.randint(low = 1, high = 10000, size = 512)\n",
    "df2 = np.random.randint(low = 1, high = 10000, size = 1024)\n",
    "df3 = np.random.randint(low = 1, high = 10000, size = 2048)\n",
    "df4 = np.random.randint(low = 1, high = 10000, size = 4096)\n",
    "df5 = np.random.randint(low = 1, high = 10000, size = 8192)\n",
    "len_array = np.array([len(df1), len(df2),len(df3), len(df4),len(df5)])\n",
    "len_array"
   ]
  },
  {
   "cell_type": "markdown",
   "metadata": {},
   "source": [
    "### 2. Sort each of the random number arrays from smallest to largest.  You may use any algorithm to sort the data."
   ]
  },
  {
   "cell_type": "code",
   "execution_count": 12,
   "metadata": {},
   "outputs": [
    {
     "data": {
      "text/plain": [
       "array([0.     , 0.     , 0.99993, 0.     , 0.     ])"
      ]
     },
     "execution_count": 12,
     "metadata": {},
     "output_type": "execute_result"
    }
   ],
   "source": [
    "# Sorting these 5 arrays and recording times for sorting in miliseconds\n",
    "# putting recorded sorting time into an array\n",
    "sort_time = np.array([])\n",
    "for j in [df1, df2, df3, df4, df5]:\n",
    "    start = time.time()\n",
    "    j.sort()\n",
    "    end= time.time()\n",
    "    sorting = round((end - start)*1000, 5)\n",
    "    sort_time = np.append(sort_time, sorting)\n",
    "sort_time"
   ]
  },
  {
   "cell_type": "markdown",
   "metadata": {},
   "source": [
    "### 3. Execute the base search algorithm (binary search) (from the text and github code) for each of array, noting the execution time for each array.  With each execution use the maximum value of the random number array as the number for which you are searching."
   ]
  },
  {
   "cell_type": "code",
   "execution_count": 13,
   "metadata": {},
   "outputs": [],
   "source": [
    "# Binary search def\n",
    "def binary_search(list, item):\n",
    "    # low and high keep track of which part of the list you'll search in.\n",
    "    low = 0\n",
    "    high = len(list) - 1\n",
    "\n",
    "    # While you haven't narrowed it down to one element ...\n",
    "    while low <= high:\n",
    "        # ... check the middle element\n",
    "        mid = (low + high) // 2\n",
    "        guess = list[mid]\n",
    "        # Found the item.\n",
    "        if guess == item:\n",
    "            return mid\n",
    "        # The guess was too high.\n",
    "        if guess > item:\n",
    "            high = mid - 1\n",
    "        # The guess was too low.\n",
    "        else:\n",
    "            low = mid + 1\n",
    "  # Item doesn't exist\n",
    "        return None"
   ]
  },
  {
   "cell_type": "code",
   "execution_count": 14,
   "metadata": {},
   "outputs": [
    {
     "data": {
      "text/plain": [
       "array([0.     , 0.     , 0.     , 1.00017, 0.99993])"
      ]
     },
     "execution_count": 14,
     "metadata": {},
     "output_type": "execute_result"
    }
   ],
   "source": [
    "# Measure and record the time for running binary search on these 5 arrays\n",
    "# put results into an array\n",
    "binary_time = np.array([])\n",
    "for j in [df1, df2, df3, df4, df5]:\n",
    "    # binary search time\n",
    "    start = time.time()\n",
    "    binary_search(j, max(j))\n",
    "    end   = time.time()\n",
    "    binary = round((end-start)*1000, 5)\n",
    "    binary_time = np.append(binary_time, binary)\n",
    "\n",
    "binary_time"
   ]
  },
  {
   "cell_type": "markdown",
   "metadata": {},
   "source": [
    "### 4. Now we will compare this to a linear search.  Use python (perhaps with the Pandas package) to prepare a five-column table containing the following columns with all times in milliseconds:\n",
    "### a. length of the random number array\n",
    "### b. sort time\n",
    "### c. linear search time for the sorted array\n",
    "### d. binary search time for the sorted array\n",
    "### e. binary search plus sort times"
   ]
  },
  {
   "cell_type": "code",
   "execution_count": 15,
   "metadata": {},
   "outputs": [
    {
     "data": {
      "text/plain": [
       "array([0.     , 0.     , 1.00017, 0.99993, 3.00026])"
      ]
     },
     "execution_count": 15,
     "metadata": {},
     "output_type": "execute_result"
    }
   ],
   "source": [
    "# Create a def for running linear research\n",
    "# using linear research def to measure time on these 5 arrays \n",
    "# put results into an array\n",
    "\n",
    "# linear search from pandas\n",
    "def linear_search(list, item):\n",
    "    for i in range(len(list)):\n",
    "        if list[i] == item:\n",
    "            return i\n",
    "\n",
    "linear_time = np.array([])\n",
    "for j in [df1, df2, df3, df4, df5]:\n",
    "    # liear search time\n",
    "    start = time.time()\n",
    "    linear_search(j, max(j))\n",
    "    end   = time.time()\n",
    "    filename = round((end-start)*1000, 5)\n",
    "    linear_time = np.append(linear_time, filename)\n",
    "\n",
    "linear_time"
   ]
  },
  {
   "cell_type": "code",
   "execution_count": 16,
   "metadata": {},
   "outputs": [
    {
     "data": {
      "text/html": [
       "<div>\n",
       "<style scoped>\n",
       "    .dataframe tbody tr th:only-of-type {\n",
       "        vertical-align: middle;\n",
       "    }\n",
       "\n",
       "    .dataframe tbody tr th {\n",
       "        vertical-align: top;\n",
       "    }\n",
       "\n",
       "    .dataframe thead th {\n",
       "        text-align: right;\n",
       "    }\n",
       "</style>\n",
       "<table border=\"1\" class=\"dataframe\">\n",
       "  <thead>\n",
       "    <tr style=\"text-align: right;\">\n",
       "      <th></th>\n",
       "      <th>len_array</th>\n",
       "      <th>sort_time</th>\n",
       "      <th>linear_time</th>\n",
       "      <th>binary_time</th>\n",
       "      <th>sort_plus_binary</th>\n",
       "    </tr>\n",
       "  </thead>\n",
       "  <tbody>\n",
       "    <tr>\n",
       "      <th>0</th>\n",
       "      <td>512</td>\n",
       "      <td>0.00000</td>\n",
       "      <td>0.00000</td>\n",
       "      <td>0.00000</td>\n",
       "      <td>0.00000</td>\n",
       "    </tr>\n",
       "    <tr>\n",
       "      <th>1</th>\n",
       "      <td>1024</td>\n",
       "      <td>0.00000</td>\n",
       "      <td>0.00000</td>\n",
       "      <td>0.00000</td>\n",
       "      <td>0.00000</td>\n",
       "    </tr>\n",
       "    <tr>\n",
       "      <th>2</th>\n",
       "      <td>2048</td>\n",
       "      <td>0.99993</td>\n",
       "      <td>1.00017</td>\n",
       "      <td>0.00000</td>\n",
       "      <td>0.99993</td>\n",
       "    </tr>\n",
       "    <tr>\n",
       "      <th>3</th>\n",
       "      <td>4096</td>\n",
       "      <td>0.00000</td>\n",
       "      <td>0.99993</td>\n",
       "      <td>1.00017</td>\n",
       "      <td>1.00017</td>\n",
       "    </tr>\n",
       "    <tr>\n",
       "      <th>4</th>\n",
       "      <td>8192</td>\n",
       "      <td>0.00000</td>\n",
       "      <td>3.00026</td>\n",
       "      <td>0.99993</td>\n",
       "      <td>0.99993</td>\n",
       "    </tr>\n",
       "  </tbody>\n",
       "</table>\n",
       "</div>"
      ],
      "text/plain": [
       "   len_array  sort_time  linear_time  binary_time  sort_plus_binary\n",
       "0        512    0.00000      0.00000      0.00000           0.00000\n",
       "1       1024    0.00000      0.00000      0.00000           0.00000\n",
       "2       2048    0.99993      1.00017      0.00000           0.99993\n",
       "3       4096    0.00000      0.99993      1.00017           1.00017\n",
       "4       8192    0.00000      3.00026      0.99993           0.99993"
      ]
     },
     "execution_count": 16,
     "metadata": {},
     "output_type": "execute_result"
    }
   ],
   "source": [
    "# Create a pandas dataframe to put all four columns together. \n",
    "# Create fifth column for time of sort plus binary search\n",
    "data = {'len_array': len_array, 'sort_time': sort_time, 'linear_time': linear_time, 'binary_time': binary_time}\n",
    "df = pd.DataFrame(data)\n",
    "df['sort_plus_binary'] = df['sort_time'] + df['binary_time']\n",
    "df.head()"
   ]
  },
  {
   "cell_type": "markdown",
   "metadata": {},
   "source": [
    "### 5. Use python matplotlib or Seaborn to generate a plot with the size of the random number array on the horizontal axis and with execution time in milliseconds on the vertical axis. The plot should show execution time against array size for linear and binary search algorithms alone.  Discuss the results."
   ]
  },
  {
   "cell_type": "markdown",
   "metadata": {},
   "source": [
    "### Discussion: Running each time actually generate different time for binary and linear research. Hence the curve could look different if the run is repeated. But in general, you will see the needed time will increase on linear search as size of array increases. But for binary search, you will see some time increase but not as much as the time in linear search. Also the search time seems to be flattened when array size is between 4000-10000. Therefore my conclusion is linear search is more size dependent while binary search is much less array size dependent in our study. "
   ]
  },
  {
   "cell_type": "code",
   "execution_count": 17,
   "metadata": {},
   "outputs": [
    {
     "data": {
      "text/plain": [
       "<matplotlib.legend.Legend at 0x92f4898>"
      ]
     },
     "execution_count": 17,
     "metadata": {},
     "output_type": "execute_result"
    },
    {
     "data": {
      "image/png": "[encoded data removed]",
      "text/plain": [
       "<Figure size 432x288 with 1 Axes>"
      ]
     },
     "metadata": {
      "needs_background": "light"
     },
     "output_type": "display_data"
    }
   ],
   "source": [
    "fig = plt.figure()\n",
    "ax  = plt.axes()\n",
    "\n",
    "# x axis is array size\n",
    "x = df['len_array']\n",
    "y1 = df['linear_time']\n",
    "y2 = df['binary_time']\n",
    "plt.plot(x, y1, linestyle ='dashed', label='linear');\n",
    "plt.plot(x, y2, linestyle ='solid' , label='binary');\n",
    "plt.title(\"Search time between linear and binary searches\")\n",
    "plt.xlabel(\"Size of Arrays\")\n",
    "plt.ylabel(\"Search time in miliseconds\");\n",
    "plt.legend()"
   ]
  },
  {
   "cell_type": "markdown",
   "metadata": {},
   "source": [
    "### 6. Use Python matplotlib or Seaborn to generate a measure of the size of the data set on the horizontal axis and with execution time in milliseconds on the vertical axis. The plot should show execution time against array size for each form of the algorithm being tested (last four columns of the table).  Discuss the results."
   ]
  },
  {
   "cell_type": "code",
   "execution_count": 18,
   "metadata": {},
   "outputs": [
    {
     "data": {
      "text/plain": [
       "<matplotlib.legend.Legend at 0x9590be0>"
      ]
     },
     "execution_count": 18,
     "metadata": {},
     "output_type": "execute_result"
    },
    {
     "data": {
      "image/png": "[encoded data removed]",
      "text/plain": [
       "<Figure size 432x288 with 1 Axes>"
      ]
     },
     "metadata": {
      "needs_background": "light"
     },
     "output_type": "display_data"
    }
   ],
   "source": [
    "fig = plt.figure()\n",
    "ax  = plt.axes()\n",
    "\n",
    "# x axis is array size\n",
    "x = df['len_array']\n",
    "plt.plot(x, df['sort_time'],   'g', label='sort time');\n",
    "plt.plot(x, df['linear_time'], 'r', label='linear search time');\n",
    "plt.plot(x, df['binary_time'], 'b', label='binary search time');\n",
    "plt.plot(x, df['sort_plus_binary'], 'm', label='sort plus binary search time');\n",
    "plt.title(\"Measure time among four metrics\")\n",
    "plt.xlabel(\"Size of Arrays\")\n",
    "plt.ylabel(\"Search time in miliseconds\");\n",
    "plt.legend()"
   ]
  },
  {
   "cell_type": "markdown",
   "metadata": {},
   "source": [
    "### Discussion: Sorting time is much less size dependent when number of value is below 4000. When size increase to 8192, you will clearly see the sorting time is longer than other arrays. \n",
    "### Linear search is believed to be size dependent because search algorithm will need to go through numbers one by one until the target number if found. Hence the larger the array is, the loner time the linear search will need. \n",
    "### Binary search show less size dependent when size is less than 4000. At the largest array which contains 8192 values, the time needed is longer than other arrays. \n",
    "### if combine sorting and binary search time together, the linear relationship of total time needed vs array size is more clear. since the testing array size is not evenly increased, most data points concentrates at early stage. the curve will be see no linearity when array size is small. as array size increases in a greater step (for example from 1024 t0 2048 and forward), the curve is going up and showing some linearity between array size and measurement.  "
   ]
  },
  {
   "cell_type": "code",
   "execution_count": null,
   "metadata": {},
   "outputs": [],
   "source": []
  }
 ],
 "metadata": {
  "kernelspec": {
   "display_name": "Python 3",
   "language": "python",
   "name": "python3"
  },
  "language_info": {
   "codemirror_mode": {
    "name": "ipython",
    "version": 3
   },
   "file_extension": ".py",
   "mimetype": "text/x-python",
   "name": "python",
   "nbconvert_exporter": "python",
   "pygments_lexer": "ipython3",
   "version": "3.7.1"
  }
 },
 "nbformat": 4,
 "nbformat_minor": 2
}
